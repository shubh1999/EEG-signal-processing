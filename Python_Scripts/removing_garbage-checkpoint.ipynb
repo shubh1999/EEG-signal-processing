{
 "cells": [
  {
   "cell_type": "code",
   "execution_count": null,
   "metadata": {},
   "outputs": [],
   "source": [
    "# coding: utf-8\n",
    "\n",
    "# In[99]:\n",
    "\n",
    "\n",
    "import pandas as pd\n",
    "import csv\n",
    "\n",
    "\n",
    "# In[121]:\n",
    "\n",
    "\n",
    "in1 = pd.read_csv(\"/home/sourabh/Downloads/LAVESH_Blink.csv\")\n",
    "in2 = pd.read_csv(\"/home/sourabh/Downloads/LAVESH_Claps.csv\")\n",
    "\n",
    "\n",
    "# In[122]:\n",
    "\n",
    "\n",
    "in1 = in1.drop(in1.index[0:201])\n",
    "in1.to_csv(\"Vipul_Blink_R.csv\")\n",
    "\n",
    "\n",
    "# In[123]:\n",
    "\n",
    "\n",
    "in2 = in2.drop(in2.index[0:201])\n",
    "in2.to_csv(\"Vipul_Claps_R.csv\")"
   ]
  },
  {
   "cell_type": "code",
   "execution_count": null,
   "metadata": {},
   "outputs": [],
   "source": []
  }
 ],
 "metadata": {
  "kernelspec": {
   "display_name": "Python 3",
   "language": "python",
   "name": "python3"
  },
  "language_info": {
   "codemirror_mode": {
    "name": "ipython",
    "version": 3
   },
   "file_extension": ".py",
   "mimetype": "text/x-python",
   "name": "python",
   "nbconvert_exporter": "python",
   "pygments_lexer": "ipython3",
   "version": "3.7.0"
  }
 },
 "nbformat": 4,
 "nbformat_minor": 2
}
