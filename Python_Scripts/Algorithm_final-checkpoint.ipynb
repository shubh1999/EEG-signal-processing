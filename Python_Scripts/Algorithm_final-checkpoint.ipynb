{
 "cells": [
  {
   "cell_type": "code",
   "execution_count": 4,
   "metadata": {},
   "outputs": [
    {
     "name": "stdout",
     "output_type": "stream",
     "text": [
      "[2 2 3 ... 4 2 5]\n",
      "Accuracy of logistic regression classifier on test set: 0.83\n",
      "[3 1 1 ... 3 4 4]\n",
      "Accuracy of logistic regression classifier on train set: 0.83\n",
      "[[1681  149   34   83   25]\n",
      " [  98 1928  129  109    6]\n",
      " [  25   97 1658  247    1]\n",
      " [  48   94  389 1711    0]\n",
      " [   5    3    0    0  673]]\n"
     ]
    },
    {
     "data": {
      "text/plain": [
       "<Figure size 640x480 with 2 Axes>"
      ]
     },
     "metadata": {},
     "output_type": "display_data"
    }
   ],
   "source": [
    "import numpy as np\n",
    "import pandas as pd\n",
    "from sklearn.model_selection import train_test_split\n",
    "#from sklearn.metrics import confusion_matrix,classification_report\n",
    "from sklearn import metrics\n",
    "from sklearn import preprocessing\n",
    "#import matplotlib.pyplot as plt0\n",
    "from sklearn.neural_network import MLPClassifier\n",
    "#from sklearn.linear_model import LogisticRegression\n",
    "# from sklearn.ensemble import RandomForestClassifier\n",
    "# from sklearn.ensemble import AdaBoostClassifier\n",
    "# from sklearn.svm import SVC\n",
    "# from sklearn.linear_model import LogisticRegression\n",
    "# from sklearn.linear_model import LinearRegression\n",
    "#from mlxtend.evaluate import confusion_matrix\n",
    "from sklearn.metrics import confusion_matrix\n",
    "#from mlxtend.plotting import plot_confusion_matrix\n",
    "from sklearn import metrics\n",
    "# from sklearn.preprocessing import RobustScaler\n",
    "import matplotlib.pyplot as plt\n",
    "from sklearn.preprocessing import MinMaxScaler\n",
    "from sklearn.model_selection import cross_val_score\n",
    "# from sklearn.tree import DecisionTreeClassifier\n",
    "from sklearn.decomposition import PCA \n",
    "\n",
    "\n",
    "\n",
    "p = dataset = pd.read_csv(\"E:/4.Final DataSet/sabhi.csv\")\n",
    "p = dataset.sample(frac=1)\n",
    "data_features=p.drop(columns=['Label'])\n",
    "# print(data_features)\n",
    "labels='Label'\n",
    "data_labels = p[labels]\n",
    "Z = data_features\n",
    "X = standardized_X = preprocessing.scale(Z)\n",
    "\n",
    "Y = data_labels\n",
    "X_train, X_test, Y_train, Y_test = train_test_split(X, Y, test_size=0.2, random_state=123)\n",
    "logreg = MLPClassifier(hidden_layer_sizes=(30,30,30))\n",
    "#logreg = LogisticRegression()\n",
    "logreg.fit(X_train, Y_train)\n",
    "logreg.fit(X, Y)\n",
    "A = Y_pred = logreg.predict(X_test)\n",
    "print(A)\n",
    "print('Accuracy of logistic regression classifier on test set: {:.2f}'.format(logreg.score(X_test, Y_test)))\n",
    "B = Y_pred = logreg.predict(X_train)\n",
    "print(B)\n",
    "print('Accuracy of logistic regression classifier on train set: {:.2f}'.format(logreg.score(X_train, Y_train)))\n",
    "cm = confusion_matrix(y_true = Y_test, y_pred = A)\n",
    "C= ['1','2','3','4','5']\n",
    "#print(Y_test.shape)\n",
    "#print(Y_pred.shape)\n",
    "print(cm)\n",
    "fig = plt.figure()\n",
    "ax = fig.add_subplot(111)\n",
    "cax = ax.matshow(cm)\n",
    "plt.title('Confusion matrix of the classifier')\n",
    "fig.colorbar(cax)\n",
    "ax.set_xticklabels(['']+C)\n",
    "ax.set_yticklabels(['']+C)\n",
    "plt.xlabel('Predicted')\n",
    "plt.ylabel('True')\n",
    "#cm.plot()\n",
    "plt.show()"
   ]
  },
  {
   "cell_type": "code",
   "execution_count": null,
   "metadata": {},
   "outputs": [],
   "source": []
  }
 ],
 "metadata": {
  "kernelspec": {
   "display_name": "Python 3",
   "language": "python",
   "name": "python3"
  },
  "language_info": {
   "codemirror_mode": {
    "name": "ipython",
    "version": 3
   },
   "file_extension": ".py",
   "mimetype": "text/x-python",
   "name": "python",
   "nbconvert_exporter": "python",
   "pygments_lexer": "ipython3",
   "version": "3.7.0"
  }
 },
 "nbformat": 4,
 "nbformat_minor": 2
}
